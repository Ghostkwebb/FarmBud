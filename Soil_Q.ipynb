{
 "cells": [
  {
   "cell_type": "code",
   "execution_count": null,
   "id": "3ae9e5eb",
   "metadata": {},
   "outputs": [
    {
     "name": "stderr",
     "output_type": "stream",
     "text": [
      "/Users/ghostkwebb/Desktop/Plant-Disease/backend/myenv/lib/python3.9/site-packages/urllib3/__init__.py:35: NotOpenSSLWarning: urllib3 v2 only supports OpenSSL 1.1.1+, currently the 'ssl' module is compiled with 'LibreSSL 2.8.3'. See: https://github.com/urllib3/urllib3/issues/3020\n",
      "  warnings.warn(\n"
     ]
    }
   ],
   "source": [
    "import tensorflow as tf\n",
    "from tensorflow.keras.preprocessing.image import ImageDataGenerator"
   ]
  },
  {
   "cell_type": "code",
   "execution_count": 3,
   "id": "64744e10",
   "metadata": {},
   "outputs": [
    {
     "name": "stdout",
     "output_type": "stream",
     "text": [
      "Found 4080 images belonging to 7 classes.\n",
      "Found 1016 images belonging to 7 classes.\n"
     ]
    },
    {
     "name": "stderr",
     "output_type": "stream",
     "text": [
      "/Users/ghostkwebb/Desktop/Plant-Disease/backend/myenv/lib/python3.9/site-packages/keras/src/layers/convolutional/base_conv.py:113: UserWarning: Do not pass an `input_shape`/`input_dim` argument to a layer. When using Sequential models, prefer using an `Input(shape)` object as the first layer in the model instead.\n",
      "  super().__init__(activity_regularizer=activity_regularizer, **kwargs)\n",
      "/Users/ghostkwebb/Desktop/Plant-Disease/backend/myenv/lib/python3.9/site-packages/keras/src/trainers/data_adapters/py_dataset_adapter.py:121: UserWarning: Your `PyDataset` class should call `super().__init__(**kwargs)` in its constructor. `**kwargs` can include `workers`, `use_multiprocessing`, `max_queue_size`. Do not pass these arguments to `fit()`, as they will be ignored.\n",
      "  self._warn_if_super_not_called()\n"
     ]
    },
    {
     "name": "stdout",
     "output_type": "stream",
     "text": [
      "Epoch 1/30\n",
      "\u001b[1m128/128\u001b[0m \u001b[32m━━━━━━━━━━━━━━━━━━━━\u001b[0m\u001b[37m\u001b[0m \u001b[1m62s\u001b[0m 474ms/step - accuracy: 0.5891 - loss: 1.7687 - val_accuracy: 0.7825 - val_loss: 0.6608\n",
      "Epoch 2/30\n",
      "\u001b[1m128/128\u001b[0m \u001b[32m━━━━━━━━━━━━━━━━━━━━\u001b[0m\u001b[37m\u001b[0m \u001b[1m57s\u001b[0m 446ms/step - accuracy: 0.8669 - loss: 0.3813 - val_accuracy: 0.8150 - val_loss: 0.6807\n",
      "Epoch 3/30\n",
      "\u001b[1m128/128\u001b[0m \u001b[32m━━━━━━━━━━━━━━━━━━━━\u001b[0m\u001b[37m\u001b[0m \u001b[1m57s\u001b[0m 443ms/step - accuracy: 0.8980 - loss: 0.2913 - val_accuracy: 0.7854 - val_loss: 0.9792\n",
      "Epoch 4/30\n",
      "\u001b[1m128/128\u001b[0m \u001b[32m━━━━━━━━━━━━━━━━━━━━\u001b[0m\u001b[37m\u001b[0m \u001b[1m57s\u001b[0m 446ms/step - accuracy: 0.9044 - loss: 0.2716 - val_accuracy: 0.7884 - val_loss: 0.9317\n",
      "Epoch 5/30\n",
      "\u001b[1m128/128\u001b[0m \u001b[32m━━━━━━━━━━━━━━━━━━━━\u001b[0m\u001b[37m\u001b[0m \u001b[1m57s\u001b[0m 446ms/step - accuracy: 0.9182 - loss: 0.2309 - val_accuracy: 0.7894 - val_loss: 1.1003\n",
      "Epoch 6/30\n",
      "\u001b[1m128/128\u001b[0m \u001b[32m━━━━━━━━━━━━━━━━━━━━\u001b[0m\u001b[37m\u001b[0m \u001b[1m59s\u001b[0m 464ms/step - accuracy: 0.9297 - loss: 0.2098 - val_accuracy: 0.7510 - val_loss: 1.1030\n",
      "Epoch 7/30\n",
      "\u001b[1m128/128\u001b[0m \u001b[32m━━━━━━━━━━━━━━━━━━━━\u001b[0m\u001b[37m\u001b[0m \u001b[1m60s\u001b[0m 465ms/step - accuracy: 0.9229 - loss: 0.2084 - val_accuracy: 0.7116 - val_loss: 1.5391\n",
      "Epoch 8/30\n",
      "\u001b[1m128/128\u001b[0m \u001b[32m━━━━━━━━━━━━━━━━━━━━\u001b[0m\u001b[37m\u001b[0m \u001b[1m59s\u001b[0m 459ms/step - accuracy: 0.9233 - loss: 0.2153 - val_accuracy: 0.7028 - val_loss: 1.3717\n",
      "Epoch 9/30\n",
      "\u001b[1m128/128\u001b[0m \u001b[32m━━━━━━━━━━━━━━━━━━━━\u001b[0m\u001b[37m\u001b[0m \u001b[1m57s\u001b[0m 446ms/step - accuracy: 0.9217 - loss: 0.2318 - val_accuracy: 0.7451 - val_loss: 1.2868\n",
      "Epoch 10/30\n",
      "\u001b[1m128/128\u001b[0m \u001b[32m━━━━━━━━━━━━━━━━━━━━\u001b[0m\u001b[37m\u001b[0m \u001b[1m57s\u001b[0m 448ms/step - accuracy: 0.9320 - loss: 0.1890 - val_accuracy: 0.7431 - val_loss: 1.7368\n",
      "Epoch 11/30\n",
      "\u001b[1m128/128\u001b[0m \u001b[32m━━━━━━━━━━━━━━━━━━━━\u001b[0m\u001b[37m\u001b[0m \u001b[1m58s\u001b[0m 451ms/step - accuracy: 0.9325 - loss: 0.1839 - val_accuracy: 0.7894 - val_loss: 1.2178\n",
      "Epoch 12/30\n",
      "\u001b[1m128/128\u001b[0m \u001b[32m━━━━━━━━━━━━━━━━━━━━\u001b[0m\u001b[37m\u001b[0m \u001b[1m57s\u001b[0m 446ms/step - accuracy: 0.9385 - loss: 0.1856 - val_accuracy: 0.7677 - val_loss: 1.5068\n",
      "Epoch 13/30\n",
      "\u001b[1m128/128\u001b[0m \u001b[32m━━━━━━━━━━━━━━━━━━━━\u001b[0m\u001b[37m\u001b[0m \u001b[1m58s\u001b[0m 453ms/step - accuracy: 0.9369 - loss: 0.1751 - val_accuracy: 0.7539 - val_loss: 1.5386\n",
      "Epoch 14/30\n",
      "\u001b[1m128/128\u001b[0m \u001b[32m━━━━━━━━━━━━━━━━━━━━\u001b[0m\u001b[37m\u001b[0m \u001b[1m57s\u001b[0m 447ms/step - accuracy: 0.9284 - loss: 0.2026 - val_accuracy: 0.7589 - val_loss: 1.6196\n",
      "Epoch 15/30\n",
      "\u001b[1m128/128\u001b[0m \u001b[32m━━━━━━━━━━━━━━━━━━━━\u001b[0m\u001b[37m\u001b[0m \u001b[1m57s\u001b[0m 444ms/step - accuracy: 0.9413 - loss: 0.1637 - val_accuracy: 0.7825 - val_loss: 1.5431\n",
      "Epoch 16/30\n",
      "\u001b[1m128/128\u001b[0m \u001b[32m━━━━━━━━━━━━━━━━━━━━\u001b[0m\u001b[37m\u001b[0m \u001b[1m57s\u001b[0m 447ms/step - accuracy: 0.9436 - loss: 0.1723 - val_accuracy: 0.7126 - val_loss: 1.6221\n",
      "Epoch 17/30\n",
      "\u001b[1m128/128\u001b[0m \u001b[32m━━━━━━━━━━━━━━━━━━━━\u001b[0m\u001b[37m\u001b[0m \u001b[1m58s\u001b[0m 449ms/step - accuracy: 0.9426 - loss: 0.1706 - val_accuracy: 0.6516 - val_loss: 2.8100\n",
      "Epoch 18/30\n",
      "\u001b[1m128/128\u001b[0m \u001b[32m━━━━━━━━━━━━━━━━━━━━\u001b[0m\u001b[37m\u001b[0m \u001b[1m57s\u001b[0m 444ms/step - accuracy: 0.9258 - loss: 0.2058 - val_accuracy: 0.7372 - val_loss: 2.0665\n",
      "Epoch 19/30\n",
      "\u001b[1m128/128\u001b[0m \u001b[32m━━━━━━━━━━━━━━━━━━━━\u001b[0m\u001b[37m\u001b[0m \u001b[1m57s\u001b[0m 444ms/step - accuracy: 0.9397 - loss: 0.1676 - val_accuracy: 0.7362 - val_loss: 1.5712\n",
      "Epoch 20/30\n",
      "\u001b[1m128/128\u001b[0m \u001b[32m━━━━━━━━━━━━━━━━━━━━\u001b[0m\u001b[37m\u001b[0m \u001b[1m57s\u001b[0m 447ms/step - accuracy: 0.9418 - loss: 0.1616 - val_accuracy: 0.7628 - val_loss: 1.6170\n",
      "Epoch 21/30\n",
      "\u001b[1m128/128\u001b[0m \u001b[32m━━━━━━━━━━━━━━━━━━━━\u001b[0m\u001b[37m\u001b[0m \u001b[1m57s\u001b[0m 443ms/step - accuracy: 0.9455 - loss: 0.1575 - val_accuracy: 0.7943 - val_loss: 1.2203\n",
      "Epoch 22/30\n",
      "\u001b[1m128/128\u001b[0m \u001b[32m━━━━━━━━━━━━━━━━━━━━\u001b[0m\u001b[37m\u001b[0m \u001b[1m58s\u001b[0m 449ms/step - accuracy: 0.9435 - loss: 0.1626 - val_accuracy: 0.7510 - val_loss: 1.4356\n",
      "Epoch 23/30\n",
      "\u001b[1m128/128\u001b[0m \u001b[32m━━━━━━━━━━━━━━━━━━━━\u001b[0m\u001b[37m\u001b[0m \u001b[1m57s\u001b[0m 443ms/step - accuracy: 0.9406 - loss: 0.1751 - val_accuracy: 0.8199 - val_loss: 1.0875\n",
      "Epoch 24/30\n",
      "\u001b[1m128/128\u001b[0m \u001b[32m━━━━━━━━━━━━━━━━━━━━\u001b[0m\u001b[37m\u001b[0m \u001b[1m57s\u001b[0m 442ms/step - accuracy: 0.9439 - loss: 0.1626 - val_accuracy: 0.7657 - val_loss: 1.5774\n",
      "Epoch 25/30\n",
      "\u001b[1m128/128\u001b[0m \u001b[32m━━━━━━━━━━━━━━━━━━━━\u001b[0m\u001b[37m\u001b[0m \u001b[1m57s\u001b[0m 443ms/step - accuracy: 0.9475 - loss: 0.1728 - val_accuracy: 0.7569 - val_loss: 1.5361\n",
      "Epoch 26/30\n",
      "\u001b[1m128/128\u001b[0m \u001b[32m━━━━━━━━━━━━━━━━━━━━\u001b[0m\u001b[37m\u001b[0m \u001b[1m57s\u001b[0m 444ms/step - accuracy: 0.9473 - loss: 0.1456 - val_accuracy: 0.7835 - val_loss: 1.2208\n",
      "Epoch 27/30\n",
      "\u001b[1m128/128\u001b[0m \u001b[32m━━━━━━━━━━━━━━━━━━━━\u001b[0m\u001b[37m\u001b[0m \u001b[1m58s\u001b[0m 451ms/step - accuracy: 0.9460 - loss: 0.1571 - val_accuracy: 0.7953 - val_loss: 0.9999\n",
      "Epoch 28/30\n",
      "\u001b[1m128/128\u001b[0m \u001b[32m━━━━━━━━━━━━━━━━━━━━\u001b[0m\u001b[37m\u001b[0m \u001b[1m57s\u001b[0m 445ms/step - accuracy: 0.9464 - loss: 0.1647 - val_accuracy: 0.7933 - val_loss: 0.8701\n",
      "Epoch 29/30\n",
      "\u001b[1m128/128\u001b[0m \u001b[32m━━━━━━━━━━━━━━━━━━━━\u001b[0m\u001b[37m\u001b[0m \u001b[1m57s\u001b[0m 447ms/step - accuracy: 0.9468 - loss: 0.1481 - val_accuracy: 0.7539 - val_loss: 1.5511\n",
      "Epoch 30/30\n",
      "\u001b[1m128/128\u001b[0m \u001b[32m━━━━━━━━━━━━━━━━━━━━\u001b[0m\u001b[37m\u001b[0m \u001b[1m57s\u001b[0m 444ms/step - accuracy: 0.9471 - loss: 0.1501 - val_accuracy: 0.7333 - val_loss: 1.4904\n"
     ]
    },
    {
     "name": "stderr",
     "output_type": "stream",
     "text": [
      "WARNING:absl:You are saving your model as an HDF5 file via `model.save()` or `keras.saving.save_model(model)`. This file format is considered legacy. We recommend using instead the native Keras format, e.g. `model.save('my_model.keras')` or `keras.saving.save_model(model, 'my_model.keras')`. \n"
     ]
    },
    {
     "name": "stdout",
     "output_type": "stream",
     "text": [
      "✅ Model saved as soil_cnn_improved.h5\n"
     ]
    }
   ],
   "source": [
    "# Dataset path (change if needed)\n",
    "dataset_path = r\"/Users/ghostkwebb/Desktop/archive/CyAUG-Dataset\"\n",
    "\n",
    "# 1. ENHANCED DATA AUGMENTATION FOR THE TRAINING SET\n",
    "# Create separate data generators: one for training (with augmentation)\n",
    "# and one for validation (only rescaling).\n",
    "train_datagen = ImageDataGenerator(\n",
    "    rescale=1./255,\n",
    "    validation_split=0.2,  # set validation split\n",
    "    rotation_range=40,\n",
    "    width_shift_range=0.2,\n",
    "    height_shift_range=0.2,\n",
    "    shear_range=0.2,\n",
    "    zoom_range=0.2,\n",
    "    horizontal_flip=True,\n",
    "    fill_mode='nearest'\n",
    ")\n",
    "\n",
    "validation_datagen = ImageDataGenerator(\n",
    "    rescale=1./255,\n",
    "    validation_split=0.2 # set validation split\n",
    ")\n",
    "\n",
    "# Data generators (80% train, 20% validation)\n",
    "train_generator = train_datagen.flow_from_directory(\n",
    "    dataset_path,\n",
    "    target_size=(150, 150),\n",
    "    batch_size=32,\n",
    "    class_mode=\"categorical\",\n",
    "    subset=\"training\", # set as training data\n",
    "    shuffle=True\n",
    ")\n",
    "\n",
    "val_generator = validation_datagen.flow_from_directory(\n",
    "    dataset_path,\n",
    "    target_size=(150, 150),\n",
    "    batch_size=32,\n",
    "    class_mode=\"categorical\",\n",
    "    subset=\"validation\", # set as validation data\n",
    "    shuffle=False # No need to shuffle validation data\n",
    ")\n",
    "\n",
    "\n",
    "# 2. DEEPER CNN MODEL WITH DROPOUT FOR REGULARIZATION\n",
    "model = tf.keras.Sequential([\n",
    "    # First Conv block\n",
    "    tf.keras.layers.Conv2D(64, (3,3), activation=\"relu\", input_shape=(150,150,3)),\n",
    "    tf.keras.layers.MaxPooling2D(2,2),\n",
    "    tf.keras.layers.Dropout(0.25),\n",
    "\n",
    "    # Second Conv block\n",
    "    tf.keras.layers.Conv2D(128, (3,3), activation=\"relu\"),\n",
    "    tf.keras.layers.MaxPooling2D(2,2),\n",
    "    tf.keras.layers.Dropout(0.25),\n",
    "\n",
    "    # Third Conv block\n",
    "    tf.keras.layers.Conv2D(256, (3,3), activation=\"relu\"),\n",
    "    tf.keras.layers.MaxPooling2D(2,2),\n",
    "    tf.keras.layers.Dropout(0.25),\n",
    "\n",
    "    # Flatten and Dense layers\n",
    "    tf.keras.layers.Flatten(),\n",
    "    tf.keras.layers.Dense(512, activation=\"relu\"),\n",
    "    tf.keras.layers.Dropout(0.5), # Higher dropout before the final layer\n",
    "    tf.keras.layers.Dense(len(train_generator.class_indices), activation=\"softmax\")\n",
    "])\n",
    "\n",
    "model.compile(optimizer=\"adam\", loss=\"categorical_crossentropy\", metrics=[\"accuracy\"])\n",
    "\n",
    "# 3. INCREASED TRAINING EPOCHS\n",
    "# Train for more epochs to allow the model to converge.\n",
    "history = model.fit(train_generator, validation_data=val_generator, epochs=30)\n",
    "\n",
    "# Save model\n",
    "model.save(\"soil_cnn_improved.h5\")\n",
    "print(\"✅ Model saved as soil_cnn_improved.h5\")"
   ]
  },
  {
   "cell_type": "code",
   "execution_count": null,
   "id": "e54a4408",
   "metadata": {},
   "outputs": [],
   "source": []
  }
 ],
 "metadata": {
  "kernelspec": {
   "display_name": "myenv",
   "language": "python",
   "name": "python3"
  },
  "language_info": {
   "codemirror_mode": {
    "name": "ipython",
    "version": 3
   },
   "file_extension": ".py",
   "mimetype": "text/x-python",
   "name": "python",
   "nbconvert_exporter": "python",
   "pygments_lexer": "ipython3",
   "version": "3.9.6"
  }
 },
 "nbformat": 4,
 "nbformat_minor": 5
}
